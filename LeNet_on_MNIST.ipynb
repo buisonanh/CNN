{
  "cells": [
    {
      "cell_type": "code",
      "execution_count": 3,
      "metadata": {
        "id": "0QpYFDMaCDDB"
      },
      "outputs": [],
      "source": [
        "import torch\n",
        "import torch.nn as nn\n",
        "import torchvision\n",
        "import torchvision.transforms as transforms\n",
        "\n",
        "\n",
        "# Define variables\n",
        "batch_size = 64\n",
        "num_classes = 10\n",
        "learning_rate = 0.001\n",
        "num_epochs = 10\n",
        "\n",
        "# Device will determine wether to run the training on GPU or CPU\n",
        "device = torch.device('cuda' if torch.cuda.is_available() else 'cpu')"
      ]
    },
    {
      "cell_type": "code",
      "execution_count": 5,
      "metadata": {
        "colab": {
          "base_uri": "https://localhost:8080/"
        },
        "id": "EPD5gLh_DttO",
        "outputId": "0bb666f7-d7d6-49dd-ebc4-a8e7da1e6c5d"
      },
      "outputs": [],
      "source": [
        "train_dataset = torchvision.datasets.MNIST(root = './data',\n",
        "                                            train = True,\n",
        "                                            transform = transforms.Compose([\n",
        "                                                transforms.Resize((32,32)),\n",
        "                                                transforms.ToTensor(),\n",
        "                                                transforms.Normalize(mean = (0.1307,), std = (0.3081,))]),\n",
        "                                            download = True)\n",
        "\n",
        "test_dataset = torchvision.datasets.MNIST(root = './data',\n",
        "                                          train = False,\n",
        "                                          transform = transforms.Compose([\n",
        "                                                  transforms.Resize((32,32)),\n",
        "                                                  transforms.ToTensor(),\n",
        "                                                  transforms.Normalize(mean = (0.1325,), std = (0.3105,))]),\n",
        "                                          download=True)\n",
        "\n",
        "\n",
        "train_loader = torch.utils.data.DataLoader(dataset = train_dataset,\n",
        "                                           batch_size = batch_size,\n",
        "                                           shuffle = True)\n",
        "\n",
        "\n",
        "test_loader = torch.utils.data.DataLoader(dataset = test_dataset,\n",
        "                                           batch_size = batch_size,\n",
        "                                           shuffle = True)"
      ]
    },
    {
      "cell_type": "code",
      "execution_count": 6,
      "metadata": {
        "id": "QSVNiw8rGaz_"
      },
      "outputs": [],
      "source": [
        "# Define the CNN\n",
        "\n",
        "class LeNet(nn.Module):\n",
        "  def __init__(self, num_classes):\n",
        "    super(LeNet, self).__init__()\n",
        "    self.layer1 = nn.Sequential(\n",
        "        nn.Conv2d(1, 6, kernel_size=5, stride=1, padding=0),\n",
        "        nn.BatchNorm2d(6),\n",
        "        nn.ReLU(),\n",
        "        nn.MaxPool2d(kernel_size=2, stride=2)\n",
        "    )\n",
        "    self.layer2 = nn.Sequential(\n",
        "        nn.Conv2d(6, 16, kernel_size=5, stride=1, padding=0),\n",
        "        nn.BatchNorm2d(16),\n",
        "        nn.ReLU(),\n",
        "        nn.MaxPool2d(kernel_size=2, stride=2)\n",
        "    )\n",
        "    self.fc = nn.Linear(400, 120)\n",
        "    self.relu = nn.ReLU()\n",
        "    self.fc1 = nn.Linear(120, 84)\n",
        "    self.relu1 = nn.ReLU()\n",
        "    self.fc2 = nn.Linear(84, num_classes)\n",
        "\n",
        "  def forward(self, x):\n",
        "    out = self.layer1(x)\n",
        "    out = self.layer2(out)\n",
        "    out = out.reshape(out.size(0), -1)\n",
        "    out = self.fc(out)\n",
        "    out = self.relu(out)\n",
        "    out = self.fc1(out)\n",
        "    out = self.relu1(out)\n",
        "    out = self.fc2(out)\n",
        "    return out\n",
        "\n"
      ]
    },
    {
      "cell_type": "code",
      "execution_count": 7,
      "metadata": {
        "id": "whawSgTNZVZN"
      },
      "outputs": [],
      "source": [
        "model = LeNet(num_classes).to(device)\n",
        "\n",
        "# Loss function\n",
        "cost = nn.CrossEntropyLoss()\n",
        "\n",
        "# Optimizer\n",
        "optimizer = torch.optim.Adam(model.parameters(), lr=learning_rate)\n",
        "\n",
        "# Print steps\n",
        "total_step = len(train_loader)"
      ]
    },
    {
      "cell_type": "code",
      "execution_count": 8,
      "metadata": {
        "colab": {
          "base_uri": "https://localhost:8080/"
        },
        "id": "OKeiDZkLaBdH",
        "outputId": "8bcad7e3-a190-4b1c-d292-d77fbff9afdd"
      },
      "outputs": [
        {
          "name": "stdout",
          "output_type": "stream",
          "text": [
            "Epoch [1/10], Step [400/938], Loss: 0.1076\n",
            "Epoch [1/10], Step [800/938], Loss: 0.0823\n",
            "Epoch [2/10], Step [400/938], Loss: 0.0147\n",
            "Epoch [2/10], Step [800/938], Loss: 0.0033\n",
            "Epoch [3/10], Step [400/938], Loss: 0.0308\n",
            "Epoch [3/10], Step [800/938], Loss: 0.0115\n"
          ]
        }
      ],
      "source": [
        "total_step = len(train_loader)\n",
        "for epoch in range(num_epochs):\n",
        "    for i, (images, labels) in enumerate(train_loader):\n",
        "        images = images.to(device)\n",
        "        labels = labels.to(device)\n",
        "\n",
        "        # Forward pass\n",
        "        outputs = model(images)\n",
        "        loss = cost(outputs, labels)\n",
        "\n",
        "        # Backward and optimize\n",
        "        optimizer.zero_grad()\n",
        "        loss.backward()\n",
        "        optimizer.step()\n",
        "\n",
        "        if (i+1) % 400 == 0:\n",
        "            print ('Epoch [{}/{}], Step [{}/{}], Loss: {:.4f}'\n",
        "        \t\t           .format(epoch+1, num_epochs, i+1, total_step, loss.item()))"
      ]
    },
    {
      "cell_type": "code",
      "execution_count": null,
      "metadata": {
        "colab": {
          "base_uri": "https://localhost:8080/"
        },
        "id": "UqrSa-0Gw7Hd",
        "outputId": "1cf2aa59-c273-4aab-d741-ca8ee2e7a536"
      },
      "outputs": [
        {
          "name": "stdout",
          "output_type": "stream",
          "text": [
            "Accuracy of the network on the 10000 test images: 99.12 %\n"
          ]
        }
      ],
      "source": [
        "# Test the model\n",
        "# In test phase, we don't need to compute gradients (for memory efficiency)\n",
        "\n",
        "with torch.no_grad():\n",
        "    correct = 0\n",
        "    total = 0\n",
        "    for images, labels in test_loader:\n",
        "        images = images.to(device)\n",
        "        labels = labels.to(device)\n",
        "        outputs = model(images)\n",
        "        _, predicted = torch.max(outputs.data, 1)\n",
        "        total += labels.size(0)\n",
        "        correct += (predicted == labels).sum().item()\n",
        "\n",
        "    print('Accuracy of the network on the 10000 test images: {} %'.format(100 * correct / total))\n"
      ]
    },
    {
      "cell_type": "code",
      "execution_count": null,
      "metadata": {
        "colab": {
          "base_uri": "https://localhost:8080/",
          "height": 225
        },
        "id": "b01-7CSEIG4I",
        "outputId": "40291e1b-8986-4d72-ff2b-58f4440287b8"
      },
      "outputs": [
        {
          "data": {
            "image/png": "[encoded data removed]",
            "text/plain": [
              "<Figure size 1500x300 with 6 Axes>"
            ]
          },
          "metadata": {},
          "output_type": "display_data"
        }
      ],
      "source": [
        "import matplotlib.pyplot as plt\n",
        "import numpy as np\n",
        "import random\n",
        "\n",
        "# Function to show images along with their labels in a row\n",
        "def imshow_row(images, titles):\n",
        "    fig, axs = plt.subplots(1, len(images), figsize=(15, 3))\n",
        "    for i in range(len(images)):\n",
        "        axs[i].imshow(images[i] / 2 + 0.5)\n",
        "        axs[i].set_title(titles[i])\n",
        "        axs[i].axis('off')\n",
        "    plt.show()\n",
        "\n",
        "# Get random test images\n",
        "num_samples = 6\n",
        "random_indices = random.sample(range(len(test_dataset)), num_samples)\n",
        "\n",
        "# Prepare images and titles for display\n",
        "images_to_show = []\n",
        "titles_to_show = []\n",
        "\n",
        "for idx in random_indices:\n",
        "    image, label = test_dataset[idx]\n",
        "    images_to_show.append(np.transpose(image.numpy(), (1, 2, 0)))\n",
        "    titles_to_show.append(f\"Predicted: {label}\")\n",
        "\n",
        "# Display the images in a row\n",
        "imshow_row(images_to_show, titles_to_show)"
      ]
    }
  ],
  "metadata": {
    "accelerator": "GPU",
    "colab": {
      "gpuType": "T4",
      "provenance": []
    },
    "kernelspec": {
      "display_name": "Python 3",
      "name": "python3"
    },
    "language_info": {
      "codemirror_mode": {
        "name": "ipython",
        "version": 3
      },
      "file_extension": ".py",
      "mimetype": "text/x-python",
      "name": "python",
      "nbconvert_exporter": "python",
      "pygments_lexer": "ipython3",
      "version": "3.11.6"
    }
  },
  "nbformat": 4,
  "nbformat_minor": 0
}
